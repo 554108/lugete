{
 "cells": [
  {
   "cell_type": "code",
   "execution_count": null,
   "metadata": {},
   "outputs": [],
   "source": [
    "#以下是对变量的练习\n",
    "\n",
    "#数字类型\n",
    "money=10000000\n",
    "print('初始资金：'+money)\n",
    "money=money-3.5\n",
    "print('现有资金:'+money)"
   ]
  },
  {
   "cell_type": "code",
   "execution_count": null,
   "metadata": {},
   "outputs": [],
   "source": [
    "#字符串是一种序列\n",
    "title = '崆峒真人'\n",
    "skill = '太虚剑法'\n",
    "print (type(title))\n",
    "print(title+'使用了'+skill )"
   ]
  },
  {
   "cell_type": "code",
   "execution_count": 1,
   "metadata": {},
   "outputs": [
    {
     "name": "stdout",
     "output_type": "stream",
     "text": [
      "<class 'str'>\n",
      "<class 'tuple'>\n",
      "<class 'list'>\n",
      "<class 'set'>\n"
     ]
    }
   ],
   "source": [
    "#其他类型\n",
    "t = 'false' \n",
    "print(type(t))\n",
    "a = (1,2,3)\n",
    "print(type(a))\n",
    "b = [1,2,3]\n",
    "print(type(b))\n",
    "c = {1,2,3}\n",
    "print(type(c))"
   ]
  }
 ],
 "metadata": {
  "kernelspec": {
   "display_name": "Python 3.8.10 64-bit",
   "language": "python",
   "name": "python3"
  },
  "language_info": {
   "codemirror_mode": {
    "name": "ipython",
    "version": 3
   },
   "file_extension": ".py",
   "mimetype": "text/x-python",
   "name": "python",
   "nbconvert_exporter": "python",
   "pygments_lexer": "ipython3",
   "version": "3.8.10"
  },
  "orig_nbformat": 4,
  "vscode": {
   "interpreter": {
    "hash": "73a75ea109158a2d84971ce48cb4564b23b98d042ab3daf1c1f7c2d610837661"
   }
  }
 },
 "nbformat": 4,
 "nbformat_minor": 2
}
