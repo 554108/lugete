{
 "cells": [
  {
   "cell_type": "code",
   "execution_count": 4,
   "metadata": {},
   "outputs": [
    {
     "ename": "UnicodeDecodeError",
     "evalue": "'utf-8' codec can't decode byte 0xc9 in position 103: invalid continuation byte",
     "output_type": "error",
     "traceback": [
      "\u001b[1;31m---------------------------------------------------------------------------\u001b[0m",
      "\u001b[1;31mSyntaxError\u001b[0m                               Traceback (most recent call last)",
      "    \u001b[1;31m[... skipping hidden 1 frame]\u001b[0m\n",
      "Cell \u001b[1;32mIn[4], line 4\u001b[0m\n\u001b[0;32m      3\u001b[0m \u001b[38;5;28;01mfrom\u001b[39;00m \u001b[38;5;21;01mpyreadstat\u001b[39;00m \u001b[38;5;28;01mimport\u001b[39;00m pyreadstat\n\u001b[1;32m----> 4\u001b[0m \u001b[38;5;28;01mimport\u001b[39;00m \u001b[38;5;21;01mmytools\u001b[39;00m\n\u001b[0;32m      6\u001b[0m 国家认同数据调查表, metadata \u001b[38;5;241m=\u001b[39m pyreadstat\u001b[38;5;241m.\u001b[39mread_sav(\u001b[38;5;124mR\u001b[39m\u001b[38;5;124m'\u001b[39m\u001b[38;5;124mdata\u001b[39m\u001b[38;5;124m\\\u001b[39m\u001b[38;5;124midentity.sav\u001b[39m\u001b[38;5;124m'\u001b[39m)\n",
      "\u001b[1;31mSyntaxError\u001b[0m: invalid syntax (mytools.py, line 3)",
      "\nDuring handling of the above exception, another exception occurred:\n",
      "\u001b[1;31mUnicodeDecodeError\u001b[0m                        Traceback (most recent call last)",
      "    \u001b[1;31m[... skipping hidden 1 frame]\u001b[0m\n",
      "File \u001b[1;32md:\\Program Files\\Python38\\lib\\site-packages\\IPython\\core\\interactiveshell.py:2088\u001b[0m, in \u001b[0;36mInteractiveShell.showtraceback\u001b[1;34m(self, exc_tuple, filename, tb_offset, exception_only, running_compiled_code)\u001b[0m\n\u001b[0;32m   2083\u001b[0m     \u001b[39mreturn\u001b[39;00m\n\u001b[0;32m   2085\u001b[0m \u001b[39mif\u001b[39;00m \u001b[39missubclass\u001b[39m(etype, \u001b[39mSyntaxError\u001b[39;00m):\n\u001b[0;32m   2086\u001b[0m     \u001b[39m# Though this won't be called by syntax errors in the input\u001b[39;00m\n\u001b[0;32m   2087\u001b[0m     \u001b[39m# line, there may be SyntaxError cases with imported code.\u001b[39;00m\n\u001b[1;32m-> 2088\u001b[0m     \u001b[39mself\u001b[39;49m\u001b[39m.\u001b[39;49mshowsyntaxerror(filename, running_compiled_code)\n\u001b[0;32m   2089\u001b[0m \u001b[39melif\u001b[39;00m etype \u001b[39mis\u001b[39;00m UsageError:\n\u001b[0;32m   2090\u001b[0m     \u001b[39mself\u001b[39m\u001b[39m.\u001b[39mshow_usage_error(value)\n",
      "File \u001b[1;32md:\\Program Files\\Python38\\lib\\site-packages\\IPython\\core\\interactiveshell.py:2163\u001b[0m, in \u001b[0;36mInteractiveShell.showsyntaxerror\u001b[1;34m(self, filename, running_compiled_code)\u001b[0m\n\u001b[0;32m   2161\u001b[0m \u001b[39m# If the error occurred when executing compiled code, we should provide full stacktrace.\u001b[39;00m\n\u001b[0;32m   2162\u001b[0m elist \u001b[39m=\u001b[39m traceback\u001b[39m.\u001b[39mextract_tb(last_traceback) \u001b[39mif\u001b[39;00m running_compiled_code \u001b[39melse\u001b[39;00m []\n\u001b[1;32m-> 2163\u001b[0m stb \u001b[39m=\u001b[39m \u001b[39mself\u001b[39;49m\u001b[39m.\u001b[39;49mSyntaxTB\u001b[39m.\u001b[39;49mstructured_traceback(etype, value, elist)\n\u001b[0;32m   2164\u001b[0m \u001b[39mself\u001b[39m\u001b[39m.\u001b[39m_showtraceback(etype, value, stb)\n",
      "File \u001b[1;32md:\\Program Files\\Python38\\lib\\site-packages\\IPython\\core\\ultratb.py:1433\u001b[0m, in \u001b[0;36mSyntaxTB.structured_traceback\u001b[1;34m(self, etype, value, elist, tb_offset, context)\u001b[0m\n\u001b[0;32m   1429\u001b[0m \u001b[39mif\u001b[39;00m \u001b[39misinstance\u001b[39m(value, \u001b[39mSyntaxError\u001b[39;00m) \\\n\u001b[0;32m   1430\u001b[0m         \u001b[39mand\u001b[39;00m \u001b[39misinstance\u001b[39m(value\u001b[39m.\u001b[39mfilename, \u001b[39mstr\u001b[39m) \\\n\u001b[0;32m   1431\u001b[0m         \u001b[39mand\u001b[39;00m \u001b[39misinstance\u001b[39m(value\u001b[39m.\u001b[39mlineno, \u001b[39mint\u001b[39m):\n\u001b[0;32m   1432\u001b[0m     linecache\u001b[39m.\u001b[39mcheckcache(value\u001b[39m.\u001b[39mfilename)\n\u001b[1;32m-> 1433\u001b[0m     newtext \u001b[39m=\u001b[39m linecache\u001b[39m.\u001b[39;49mgetline(value\u001b[39m.\u001b[39;49mfilename, value\u001b[39m.\u001b[39;49mlineno)\n\u001b[0;32m   1434\u001b[0m     \u001b[39mif\u001b[39;00m newtext:\n\u001b[0;32m   1435\u001b[0m         value\u001b[39m.\u001b[39mtext \u001b[39m=\u001b[39m newtext\n",
      "File \u001b[1;32md:\\Program Files\\Python38\\lib\\linecache.py:16\u001b[0m, in \u001b[0;36mgetline\u001b[1;34m(filename, lineno, module_globals)\u001b[0m\n\u001b[0;32m     15\u001b[0m \u001b[39mdef\u001b[39;00m \u001b[39mgetline\u001b[39m(filename, lineno, module_globals\u001b[39m=\u001b[39m\u001b[39mNone\u001b[39;00m):\n\u001b[1;32m---> 16\u001b[0m     lines \u001b[39m=\u001b[39m getlines(filename, module_globals)\n\u001b[0;32m     17\u001b[0m     \u001b[39mif\u001b[39;00m \u001b[39m1\u001b[39m \u001b[39m<\u001b[39m\u001b[39m=\u001b[39m lineno \u001b[39m<\u001b[39m\u001b[39m=\u001b[39m \u001b[39mlen\u001b[39m(lines):\n\u001b[0;32m     18\u001b[0m         \u001b[39mreturn\u001b[39;00m lines[lineno\u001b[39m-\u001b[39m\u001b[39m1\u001b[39m]\n",
      "File \u001b[1;32md:\\Program Files\\Python38\\lib\\linecache.py:47\u001b[0m, in \u001b[0;36mgetlines\u001b[1;34m(filename, module_globals)\u001b[0m\n\u001b[0;32m     44\u001b[0m         \u001b[39mreturn\u001b[39;00m cache[filename][\u001b[39m2\u001b[39m]\n\u001b[0;32m     46\u001b[0m \u001b[39mtry\u001b[39;00m:\n\u001b[1;32m---> 47\u001b[0m     \u001b[39mreturn\u001b[39;00m updatecache(filename, module_globals)\n\u001b[0;32m     48\u001b[0m \u001b[39mexcept\u001b[39;00m \u001b[39mMemoryError\u001b[39;00m:\n\u001b[0;32m     49\u001b[0m     clearcache()\n",
      "File \u001b[1;32md:\\Program Files\\Python38\\lib\\linecache.py:137\u001b[0m, in \u001b[0;36mupdatecache\u001b[1;34m(filename, module_globals)\u001b[0m\n\u001b[0;32m    135\u001b[0m \u001b[39mtry\u001b[39;00m:\n\u001b[0;32m    136\u001b[0m     \u001b[39mwith\u001b[39;00m tokenize\u001b[39m.\u001b[39mopen(fullname) \u001b[39mas\u001b[39;00m fp:\n\u001b[1;32m--> 137\u001b[0m         lines \u001b[39m=\u001b[39m fp\u001b[39m.\u001b[39;49mreadlines()\n\u001b[0;32m    138\u001b[0m \u001b[39mexcept\u001b[39;00m \u001b[39mOSError\u001b[39;00m:\n\u001b[0;32m    139\u001b[0m     \u001b[39mreturn\u001b[39;00m []\n",
      "File \u001b[1;32md:\\Program Files\\Python38\\lib\\codecs.py:322\u001b[0m, in \u001b[0;36mBufferedIncrementalDecoder.decode\u001b[1;34m(self, input, final)\u001b[0m\n\u001b[0;32m    319\u001b[0m \u001b[39mdef\u001b[39;00m \u001b[39mdecode\u001b[39m(\u001b[39mself\u001b[39m, \u001b[39minput\u001b[39m, final\u001b[39m=\u001b[39m\u001b[39mFalse\u001b[39;00m):\n\u001b[0;32m    320\u001b[0m     \u001b[39m# decode input (taking the buffer into account)\u001b[39;00m\n\u001b[0;32m    321\u001b[0m     data \u001b[39m=\u001b[39m \u001b[39mself\u001b[39m\u001b[39m.\u001b[39mbuffer \u001b[39m+\u001b[39m \u001b[39minput\u001b[39m\n\u001b[1;32m--> 322\u001b[0m     (result, consumed) \u001b[39m=\u001b[39m \u001b[39mself\u001b[39;49m\u001b[39m.\u001b[39;49m_buffer_decode(data, \u001b[39mself\u001b[39;49m\u001b[39m.\u001b[39;49merrors, final)\n\u001b[0;32m    323\u001b[0m     \u001b[39m# keep undecoded input until the next call\u001b[39;00m\n\u001b[0;32m    324\u001b[0m     \u001b[39mself\u001b[39m\u001b[39m.\u001b[39mbuffer \u001b[39m=\u001b[39m data[consumed:]\n",
      "\u001b[1;31mUnicodeDecodeError\u001b[0m: 'utf-8' codec can't decode byte 0xc9 in position 103: invalid continuation byte"
     ]
    }
   ],
   "source": []
  },
  {
   "cell_type": "code",
   "execution_count": null,
   "metadata": {},
   "outputs": [],
   "source": [
    "import pandas as pd\n",
    "import matplotlib.pyplot as plt\n",
    "from pyreadstat import pyreadstat\n",
    "import mytools\n",
    "\n",
    "国家认同数据调查表, metadata = pyreadstat.read_sav(R'data\\identity.sav')\n",
    "result = 国家认同数据调查表['会打多少分'].value_counts(sort=False)"
   ]
  }
 ],
 "metadata": {
  "kernelspec": {
   "display_name": "Python 3.8.10 64-bit",
   "language": "python",
   "name": "python3"
  },
  "language_info": {
   "codemirror_mode": {
    "name": "ipython",
    "version": 3
   },
   "file_extension": ".py",
   "mimetype": "text/x-python",
   "name": "python",
   "nbconvert_exporter": "python",
   "pygments_lexer": "ipython3",
   "version": "3.8.10"
  },
  "orig_nbformat": 4,
  "vscode": {
   "interpreter": {
    "hash": "73a75ea109158a2d84971ce48cb4564b23b98d042ab3daf1c1f7c2d610837661"
   }
  }
 },
 "nbformat": 4,
 "nbformat_minor": 2
}
